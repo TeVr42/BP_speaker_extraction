{
 "cells": [
  {
   "cell_type": "code",
   "execution_count": null,
   "metadata": {},
   "outputs": [],
   "source": [
    "import sys\n",
    "sys.path.append('../')\n",
    "from functions.functions import calculate_ILD\n",
    "\n",
    "import torch\n",
    "import soundfile as sf\n"
   ]
  },
  {
   "cell_type": "code",
   "execution_count": 2,
   "metadata": {},
   "outputs": [],
   "source": [
    "def preprocess_data(number_of_data, name, mic1, mic2):\n",
    "    for i in range(number_of_data):\n",
    "        s, _ = sf.read(f'../data/train/s{i}.wav')\n",
    "        y, _ = sf.read(f'../data/train/y{i}.wav')\n",
    "        \n",
    "        mix_signal = s + y\n",
    "        IPD = calculate_ILD(mix_signal, mic1_nr=mic1, mic2_nr=mic2)\n",
    "        torch.save(IPD, f\"../preprocessed_data/{name}{i}.pt\")"
   ]
  },
  {
   "cell_type": "code",
   "execution_count": 3,
   "metadata": {},
   "outputs": [],
   "source": [
    "preprocess_data(number_of_data=2000, name='ild17_', mic1=1, mic2=7)"
   ]
  },
  {
   "cell_type": "code",
   "execution_count": 4,
   "metadata": {},
   "outputs": [],
   "source": [
    "preprocess_data(number_of_data=2000, name='ild35_', mic1=3, mic2=5)"
   ]
  },
  {
   "cell_type": "code",
   "execution_count": 5,
   "metadata": {},
   "outputs": [],
   "source": [
    "preprocess_data(number_of_data=2000, name='ild14_', mic1=1, mic2=4)"
   ]
  },
  {
   "cell_type": "code",
   "execution_count": null,
   "metadata": {},
   "outputs": [],
   "source": []
  }
 ],
 "metadata": {
  "kernelspec": {
   "display_name": "bpenv",
   "language": "python",
   "name": "python3"
  },
  "language_info": {
   "codemirror_mode": {
    "name": "ipython",
    "version": 3
   },
   "file_extension": ".py",
   "mimetype": "text/x-python",
   "name": "python",
   "nbconvert_exporter": "python",
   "pygments_lexer": "ipython3",
   "version": "3.12.4"
  }
 },
 "nbformat": 4,
 "nbformat_minor": 2
}
